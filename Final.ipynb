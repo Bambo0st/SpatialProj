{
 "cells": [
  {
   "cell_type": "code",
   "execution_count": 1,
   "id": "fb6ce01c-b9d6-49e6-822f-a665c4dc908b",
   "metadata": {
    "tags": []
   },
   "outputs": [
    {
     "name": "stdout",
     "output_type": "stream",
     "text": [
      "PlantVillage\n",
      "Pepper__bell___Bacterial_spot\n",
      "Pepper__bell___healthy\n",
      "Potato___Early_blight\n",
      "Potato___healthy\n",
      "Potato___Late_blight\n",
      "Tomato_Bacterial_spot\n",
      "Tomato_Early_blight\n",
      "Tomato_healthy\n",
      "Tomato_Late_blight\n",
      "Tomato_Leaf_Mold\n",
      "Tomato_Septoria_leaf_spot\n",
      "Tomato_Spider_mites_Two_spotted_spider_mite\n",
      "Tomato__Target_Spot\n",
      "Tomato__Tomato_mosaic_virus\n",
      "Tomato__Tomato_YellowLeaf__Curl_Virus\n"
     ]
    }
   ],
   "source": [
    "import pandas as pd\n",
    "import cv2\n",
    "from sklearn.model_selection import train_test_split\n",
    "from sklearn.ensemble import RandomForestClassifier\n",
    "from sklearn.metrics import accuracy_score,f1_score,classification_report,confusion_matrix\n",
    "from sklearn.preprocessing import LabelEncoder\n",
    "import numpy as np\n",
    "import os\n",
    "image_count = {}\n",
    "default_image_size = tuple((128, 128))\n",
    "\n",
    "data = []\n",
    "for root, _, files in os.walk('PlantVillage'):\n",
    "    disease = os.path.basename(root)\n",
    "    print(disease)\n",
    "    image_count[disease] = 0  \n",
    "\n",
    "    for file in files:\n",
    "        if file.endswith('.jpg') or file.endswith('.png') or file.endswith('.JPG') or file.endswith('.PNG') or file.endswith('JPEG') or file.endswith('jpeg') :\n",
    "            image_path = os.path.join(root, file)\n",
    "\n",
    "            if image_count[disease] >= 1000:\n",
    "                continue\n",
    "\n",
    "            # Read the image\n",
    "            image = cv2.imread(image_path)\n",
    "            # image = cv2.cvtColor(image, cv2.COLOR_BGR2GRAY)\n",
    "            image = cv2.resize(image, default_image_size)\n",
    "            # Flatten the image to a 1D array and convert to NumPy array\n",
    "            flattened_image = image.flatten().astype(int)\n",
    "            # Store the flattened pixel values and disease name in data\n",
    "            data.append([flattened_image, disease])\n",
    "\n",
    "            # Increment the counter for the current disease\n",
    "            image_count[disease] += 1\n",
    "\n",
    "df = pd.DataFrame(data, columns=['image_pixels', 'disease'])\n",
    "\n",
    "# Split the data into training and testing sets\n",
    "X = np.vstack(df['image_pixels'].to_numpy())\n",
    "y = df['disease']\n",
    "\n",
    "# Encode disease labels using LabelEncoder\n",
    "le = LabelEncoder()\n",
    "y = le.fit_transform(y)\n",
    "\n",
    "X_train, X_test, y_train, y_test = train_test_split(X, y, test_size=0.2, random_state=42)\n",
    "\n",
    "\n",
    "# Train the model\n",
    "model = RandomForestClassifier()\n",
    "model.fit(X_train, y_train)\n",
    "\n",
    "# Make predictions\n",
    "y_pred = model.predict(X_test)\n",
    "\n",
    "# Evaluate the model\n",
    "\n",
    "\n",
    "\n",
    "\n"
   ]
  },
  {
   "cell_type": "code",
   "execution_count": 2,
   "id": "ac1a3b9f-cd64-45a9-b165-528de42a20f0",
   "metadata": {
    "tags": []
   },
   "outputs": [],
   "source": [
    "# print(X_train)\n",
    "# print(y_train)\n",
    "# print(X_train.shape)\n"
   ]
  },
  {
   "cell_type": "code",
   "execution_count": 3,
   "id": "e798ac53-a1c1-4eeb-9147-926118317daa",
   "metadata": {
    "tags": []
   },
   "outputs": [
    {
     "data": {
      "text/plain": [
       "49152"
      ]
     },
     "execution_count": 3,
     "metadata": {},
     "output_type": "execute_result"
    }
   ],
   "source": [
    "len(X_train[0])"
   ]
  },
  {
   "cell_type": "code",
   "execution_count": 4,
   "id": "9f6ca9be-a910-4fe0-99c7-b5a46b0440fc",
   "metadata": {},
   "outputs": [
    {
     "name": "stdout",
     "output_type": "stream",
     "text": [
      "{'PlantVillage': 0, 'Pepper__bell___Bacterial_spot': 997, 'Pepper__bell___healthy': 1000, 'Potato___Early_blight': 1000, 'Potato___healthy': 152, 'Potato___Late_blight': 1000, 'Tomato_Bacterial_spot': 1000, 'Tomato_Early_blight': 1000, 'Tomato_healthy': 1000, 'Tomato_Late_blight': 1000, 'Tomato_Leaf_Mold': 952, 'Tomato_Septoria_leaf_spot': 1000, 'Tomato_Spider_mites_Two_spotted_spider_mite': 1000, 'Tomato__Target_Spot': 1000, 'Tomato__Tomato_mosaic_virus': 373, 'Tomato__Tomato_YellowLeaf__Curl_Virus': 1000}\n"
     ]
    }
   ],
   "source": [
    "print(image_count)"
   ]
  },
  {
   "cell_type": "code",
   "execution_count": 5,
   "id": "e7a91f23-0f62-45c5-976c-e63d1da49145",
   "metadata": {},
   "outputs": [
    {
     "name": "stdout",
     "output_type": "stream",
     "text": [
      "Accuracy: 0.6515769944341373\n"
     ]
    }
   ],
   "source": [
    "accuracy = accuracy_score(y_test, y_pred)\n",
    "print('Accuracy:', accuracy)"
   ]
  },
  {
   "cell_type": "code",
   "execution_count": 6,
   "id": "a7d7d7b8-2efe-4676-8046-0cf48dca7965",
   "metadata": {
    "tags": []
   },
   "outputs": [
    {
     "data": {
      "text/plain": [
       "0.6359617131348002"
      ]
     },
     "execution_count": 6,
     "metadata": {},
     "output_type": "execute_result"
    }
   ],
   "source": [
    "f1 = f1_score(y_test, y_pred, average='weighted')\n",
    "f1"
   ]
  },
  {
   "cell_type": "code",
   "execution_count": 7,
   "id": "5cd19fb1-9cf4-417d-8f6e-5e3e10f868e5",
   "metadata": {
    "tags": []
   },
   "outputs": [
    {
     "data": {
      "text/plain": [
       "array([[133,  10,  22,  14,   0,   0,   6,   1,   1,  11,   5,   4,   5,\n",
       "          0,   1],\n",
       "       [ 13, 145,   6,   7,   0,   3,   1,   4,   0,   5,   0,   5,   1,\n",
       "          0,   1],\n",
       "       [  0,   3, 184,   6,   0,   0,   0,   0,   0,   6,   0,   1,   0,\n",
       "          0,   1],\n",
       "       [ 18,   3,  17, 132,   0,  11,   2,   1,   3,   4,   5,   9,   3,\n",
       "          0,   3],\n",
       "       [ 13,   9,   0,  11,   0,   0,   0,   0,   1,   6,   0,   2,   0,\n",
       "          0,   0],\n",
       "       [  0,   1,   1,   8,   0, 149,   2,   9,   0,   0,   0,   2,  12,\n",
       "          0,   5],\n",
       "       [  8,  13,   6,   8,   0,  34,  66,   2,   6,   4,  15,  25,  16,\n",
       "          0,   2],\n",
       "       [  4,  10,  14,  20,   0,   2,  13,  79,   5,  14,   3,   9,   2,\n",
       "          1,   2],\n",
       "       [  3,   1,   3,   5,   0,   6,   5,   1, 152,   8,  14,   5,   3,\n",
       "          3,   4],\n",
       "       [  6,  11,  18,   7,   0,   5,   1,   3,   9, 102,   7,   7,   8,\n",
       "          2,   5],\n",
       "       [  2,   1,   0,   2,   0,   7,   4,   0,   0,   3, 160,  16,   4,\n",
       "          0,   2],\n",
       "       [  4,   4,   3,   4,   0,   8,   7,   1,   0,   3,  24, 124,   1,\n",
       "          0,   8],\n",
       "       [  1,   0,   1,   4,   0,  11,   9,   2,   2,   6,  15,   2, 150,\n",
       "          0,   1],\n",
       "       [  0,   0,   0,   0,   0,   1,   3,   6,  11,  11,  23,   1,   3,\n",
       "         19,   2],\n",
       "       [  0,   0,   1,   3,   0,   0,   2,   2,   1,   0,   3,  11,   1,\n",
       "          0, 161]], dtype=int64)"
      ]
     },
     "execution_count": 7,
     "metadata": {},
     "output_type": "execute_result"
    }
   ],
   "source": [
    "conf_matrix = confusion_matrix(y_test, y_pred)\n",
    "conf_matrix"
   ]
  }
 ],
 "metadata": {
  "kernelspec": {
   "display_name": "SpatialEnv",
   "language": "python",
   "name": "spatialenv"
  },
  "language_info": {
   "codemirror_mode": {
    "name": "ipython",
    "version": 3
   },
   "file_extension": ".py",
   "mimetype": "text/x-python",
   "name": "python",
   "nbconvert_exporter": "python",
   "pygments_lexer": "ipython3",
   "version": "3.11.5"
  }
 },
 "nbformat": 4,
 "nbformat_minor": 5
}
